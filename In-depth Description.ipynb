{
 "cells": [
  {
   "cell_type": "markdown",
   "id": "e1804a00",
   "metadata": {},
   "source": [
    "# Predicting EV Adoption Using Census Block Data"
   ]
  },
  {
   "cell_type": "markdown",
   "id": "06a76ef6",
   "metadata": {},
   "source": [
    "## Abstract \n",
    "In recent years, we’ve seen growing awareness about the negative impact that internal combustion engine passenger vehicles can have on our planet. In response to this, we’ve seen a range of responses from electric vehicle (EV) manufacturers like Tesla that have created EVs that are indistinguishable from normal passenger vehicles, to states like California that have introduced legislation to ensure all new vehicles sold after 2035 are emission-free. Amidst these changes, the US has a long way to go in terms of achieving a meaningful level of fleet electrification. Most of the existing research on EV adoption focuses on state or county level adoption, consequently, we chose to predict EV adoption at a far greater granularity - the census block group level. We used census block group level variation in features such as race, income, education, and commute time to develop both parametric and non-parametric methods to determine the proportion of EVs registered in a census block group divided by the total number of passenger vehicles registered in the same region during the same year. \n",
    "\n",
    "Through our exploration into this topic, we learned that demographic information (tracked in census data) can be used as fairly strong predictors of electric vehicle adoption. In addition, we came to see the value in creating both parametric and non-parametric models, especially in situations where we are focused on prediction rather than inference. A valuable takeaway for us is a newfound appreciation for how influential data provenance can be in the generation of data driven models. "
   ]
  },
  {
   "cell_type": "markdown",
   "id": "aa8fd67b",
   "metadata": {},
   "source": [
    "## Project Background \n",
    "Our motivation for embarking on this project came in part from our view that electric vehicles will be pivotal in the decarbonization of the transportation sector. According to the US EPA, the transportation sector (which includes all forms of transportation such as cars, trucks, plains, trains, and ships) accounted for 28 percent of all US greenhouse gas emissions in 2018, which was more than any other economic sector. Furthermore, passenger cars and light duty trucks contributed more than half of those emissions (“Sources of Greenhouse Gas Emissions”). \n",
    "\n",
    "Despite its purported merit, we recognize that electric vehicle adoption alone is not sufficient to ultimately reduce greenhouse gas emissions tied to transportation. The source of electricity for our electric vehicles will need to be renewably generated or else we will simply be transferring emissions from the transportation sector to the electricity generation sector (currently the second largest economic sector in terms of emissions). Given that transitions to renewables are already underway in the electricity generation sector, we feel confident that fleet electrification is an important step towards decarbonization. \n",
    "\n",
    "California Governor, Gavin Newsom, shares our sentiment. In late September 2020, Newsom issued executive order N-79-20, requiring that all new passenger vehicles sold be emission-free by 2035. It is worth noting that in California, the transportation sector accounts for more than 50 percent of greenhouse gas emissions and successful execution of Newsom’s order is projected to reduce total statewide emissions by 35 percent (State of California). Additionally, this order has implications that reach beyond the scope of climate change mitigation. California’s transportation sector currently accounts for the vast majority of smog forming pollution and toxic diesel emissions. In a statement that addresses both climate change and human health concerns, the Governor proclaimed, “Californians shouldn’t have to worry if our cars are giving our kids asthma. Our cars shouldn’t make wildfires worse – and create more days filled with smoky air. Cars shouldn’t melt glaciers or raise sea levels threatening our cherished beaches and coastlines” (State of California). \n",
    "\n",
    "One might call into question whether executive order N-79-20 is realistic for California. After all, California’s auto sales are currently far from 100 percent electric. Perhaps Newsom’s 2035 goal is too lofty. \n",
    "\n",
    "Another key piece of background for this research project is the changing nature of the EV market, particularly with regards to their price and range parity with gasoline vehicles. While cars like the Nissan Leaf and other non-mainstream vehicles introduced the idea of EVs to the market, the recent work of companies like Tesla, especially their Model 3 vehicle, have created a new breed of EVs that offer an identical driving experience and near price parity. Tesla’s success, alongside changing global regulations, have led many other large car manufacturers such as Volkswagen, Volvo, and Ford (the EV Mustang will be coming out in 2021) to prioritize the manufacturing of EVs. \n",
    "\n",
    "We think that use of economic incentives will be key in reaching California's goal. Understanding the current regional differences in demand for electric vehicles will be important in figuring out exactly how to quantify these incentives. In addition, these incentives may lie at both the producer and the consumer level. Fortunately, California provides data on electric vehicle adoption at the census block group level to help make these decisions. However, not all states collect this information at such a granular level, posing a barrier in effectively influencing demand for electric vehicles. A mechanism for predicting regional differences in electric vehicle adoption in areas where such information is not available could be instrumental in advising state governments on how to help the auto industry promote sales of electric vehicles. There are further applications of this research looking towards EV charging locations and how adoption rates may influence where charging stations are placed. This wasn’t factored into our research, but would be an interesting follow up topic. \n",
    "\n",
    "**[Sources]**\n",
    "\n",
    "**[1]** California, State of. “Governor Newsom Announces California Will Phase Out Gasoline-Powered Cars & Drastically Reduce Demand for Fossil Fuel in California's Fight Against Climate Change.” Office of Governor Gavin Newsom, CA.gov, 23 Sept. 2020, www.gov.ca.gov/2020/09/23/governor-newsom-announces-california-will-phase-out-gasoline-powered-cars-drastically-reduce-demand-for-fossil-fuel-in-californias-fight-against-climate-change/. <br />\n",
    "\n",
    "**[2]** “Sources of Greenhouse Gas Emissions.” Greenhouse Gas Emissions, Environmental Protection Agency, www.epa.gov/ghgemissions/sources-greenhouse-gas-emissions. "
   ]
  },
  {
   "cell_type": "markdown",
   "id": "b0696500",
   "metadata": {},
   "source": [
    "## Project Objective \n",
    "The purpose of this project is to train and evaluate different models to predict regional variation in electric vehicle adoption in areas that do not provide EV information, using census block level variation in features such as education, income, race, and commute time. Prediction power over regional variations in electric vehicle adoption will give states an easy, low effort way to effectively make decisions about where to grant subsidies for electric vehicle sales. \n",
    "\n",
    "The main resource allocation problem that we aim to tackle is the fact that states typically have limited budgets, so we want to help them better understand census block level EV adoption, so they can efficiently target subsidies and other outreach methods to the areas that need them most. We see this as a very important problem, since EV adoption will be a key part of the global transition to a more sustainable future. In addition, as discussed above, EV manufacturers are at a key inflection point where they have drastically shifted attention from gas vehicles to producing equivalent EVs.\n",
    "\n",
    "During our research, we didn’t come across much work that looked at EV adoption at the census block level, though many have studied state-level adoption. We think that this adds novelty to the approach that we’ve taken and the research that we’re doing. Much of the spatially focussed research has focussed on EV charging locations and their placement, rather than overall EV adoption. "
   ]
  },
  {
   "cell_type": "markdown",
   "id": "697ac6b7",
   "metadata": {},
   "source": [
    "## Input Data Description \n",
    "\n",
    "We used the US Census Bureau to obtain data on a block group basis for all of the counties in California. From the Census data, we collected datasets on yearly income, average commute time, education level, and race per census block. We also collected data from the California Air Resources Board’s Fleet Database, which contains data on the number of EV’s as well as the total number of vehicles per census block group. The census data was collected via the yearly census done by the US Census Bureau, whereas the Fleet Database was generated from vehicle registration data from California Department of Motor Vehicles.\n",
    "\n",
    "Structure: For each of our individual data sets (which we merged into one dataframe) the data is grouped by census block groups in each county. Each row in the data frame corresponds to a census block in California, and each column represents either an identifier (such as which county the census block belongs to) or a feature (race, income, etc). We downloaded all of these files as CSV files.\n",
    "\n",
    "Granularity: Each row represents an observation from a specific block group and county from 2018. \n",
    "\n",
    "Scope: For our geographic scope, our data covers all of the census block groups in the state of California. The temporal scope of our data covers 2018, as this is the most recent (and relevant) data that we have access to.\n",
    "\n",
    "Temporality: Our data set covers the 2018 year, however there is only one data point per census block per year since these are yearly measurements.\n",
    "\n",
    "Faithfulness: Our Census data comes from the Census Bureau, which is a government group that collects self-reported data on the population. Given that the data is self reported and voluntarily recorded, our data may be potentially skewed. The fleet data contains data from the DMV’s vehicle registrations, which are very reliable."
   ]
  },
  {
   "cell_type": "markdown",
   "id": "b84ef604",
   "metadata": {},
   "source": [
    "## Interpretation and Conclusions \n",
    "\n",
    "The resource allocation question we set out to answer was to determine which areas are in the greatest need for economic incentives to adopt electric vehicles. We decided that the proportion of electric vehicles in an area would be a good proxy for determining the degree to which an area is in need of economic incentives. We built several different models with the goal of effectively predicting the proportion of electric vehicles in a geographic region (our main model restricted the size of this region to the census block group level). We determined that among our parametric models, Lasso Regression performs the best in terms of minimizing test RMSE; however, among all the models we built and tested, Regression Trees returned the lowest test RMSE. This finding suggests that there may be some underlying non-linear data-generating process at play. \n",
    "\n",
    "Our model could be used by policy makers in other states striving to determine how best to allocate economic incentives for EV adoption, assuming they have census block group level data on file for our predictors: education, income, race, and commute time. We would advise that if our model returns a proportion of electric vehicles in a given region that is lower than the level of adoption that region is striving for, then greater economic incentives should be implemented in those regions. Economic incentives may not be the only factor that leads to low levels of EV adoption, policy makers may also want to consider factors like the number of EV charging stations or EV showrooms in locations where there are low levels of adoption. Ultimately, our model will help local leaders understand not only how best to distribute funds to potential economic incentives, but also how best to allocate their time in order to understand the drivers behind the lack of adoption in each specific census block. \n",
    "\n",
    "Throughout the course of this notebook, we have noted several caveats that may influence the performance of our model. One such caveat is the fact that we chose to group the data into certain categorical variables, such as the proportion of people who complete high school, which includes both those who graduate from high school and those who complete the GED. In the case of California, we felt like grouping these variables together is unlikely to drastically skew the data, however, there may be other states where such decisions may materially affect the model. In a similar vein, our model only included race for people who reported to be only 1 race, thus, we don’t account for mixed race individuals. This is a simplifying assumption that we made, however, it could impact our model if we use the same groupings in areas with large populations of mixed race individuals. \n",
    "\n",
    "During our census block level predictions, we found that in areas with higher proportions of electric vehicles, our model would systematically underestimate the proportion of electric vehicles. This may be driven by the fact that the lion share of observations in our data tend to have really low proportions of electric vehicles, thus, our model is biased towards predicting lower proportions of electric vehicles. This is something that is likely to be less of an issue in other states, since we think that California is one of the states that has the highest levels of variance when it comes to EV adoption, since there are pockets of California, such as Menlo Park and Palo Alto that are flooded with Teslas, while many rural areas have next to no electric vehicle adoption. We would argue that other states are less likely to see the same scale of variance as is present in California. \n",
    "\n",
    "Given some of these caveats and many of the potential underlying state-level factors that influence EV adoption (e.g. political views, EV charger availability, tax incentives), which may not be captured in our model, we wanted to test the external validity of our methods. We simulated this by dividing California into Northern California and Southern California, since we felt that there was significant enough variation between these two regions that could serve as a proxy for simulating inter-state variation. We built a model that was trained on only Northern California data, which we then tested on Southern California data and found that the Lasso test RMSE to be quite similar (0.529 - Norcal / Socal vs. 0.597 - random split) to our model when we tested it using a random train-test-split. This demonstrates that our model is flexible enough to potentially deal with underlying state-level variation and the similar RMSE is more a function of the model itself than any state-specific characteristics. While our model did hold up to our preliminary external validity testing, there are certain states where our model may be unable to capture significant underlying differences between states. For example, if we were to apply our model to a state like Hawaii, it may be necessary to include certain state-level control variables. \n",
    "\n",
    "Ultimately, it is always important to exercise caution when applying a model to a different state with potentially different underlying characteristics, however, this model can serve as a strong first order approximation of the proportion of EVs that one would find in a given census block."
   ]
  },
  {
   "cell_type": "code",
   "execution_count": null,
   "id": "82962de9",
   "metadata": {},
   "outputs": [],
   "source": []
  }
 ],
 "metadata": {
  "kernelspec": {
   "display_name": "Python 3 (ipykernel)",
   "language": "python",
   "name": "python3"
  },
  "language_info": {
   "codemirror_mode": {
    "name": "ipython",
    "version": 3
   },
   "file_extension": ".py",
   "mimetype": "text/x-python",
   "name": "python",
   "nbconvert_exporter": "python",
   "pygments_lexer": "ipython3",
   "version": "3.9.12"
  }
 },
 "nbformat": 4,
 "nbformat_minor": 5
}
